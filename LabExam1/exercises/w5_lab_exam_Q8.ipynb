{
 "cells": [
  {
   "cell_type": "code",
   "execution_count": null,
   "metadata": {},
   "outputs": [],
   "source": [
    " # -*- coding: week 5 lab exam exercises -*-\n",
    "\n",
    "# 8. \n",
    "class BookCatalog:\n",
    "    def __init__(self):\n",
    "        self.book_details = {}\n",
    "\n",
    "    def add_book(self, title, isbn):\n",
    "        self.book_details[isbn] = title\n",
    "        print(f\"Book {title} with ISBN {isbn} added to catalog.\")\n",
    "\n",
    "    def get_book_title(self, isbn):\n",
    "        if isbn in self.book_details:\n",
    "            return self.book_details[isbn] \n",
    "        else:\n",
    "            return \"Book not found.\"\n",
    "\n",
    "def main():\n",
    "    book_catalog = BookCatalog()\n",
    "    while True:\n",
    "        print(\"1. Add a book\")\n",
    "        print(\"2. Get a book's title by ISBN\")\n",
    "        print(\"3. Exit\")\n",
    "        choice = int(input(\"Enter your choice: \"))\n",
    "        if choice == 1:\n",
    "            title = input(\"Enter book title: \")\n",
    "            isbn = int(input(\"Enter book ISBN: \"))\n",
    "            book_catalog.add_book(title, isbn)\n",
    "        elif choice == 2:\n",
    "            isbn = int(input(\"Enter book ISBN: \"))\n",
    "            title = book_catalog.get_book_title(isbn)\n",
    "            print(title + \" bookfound.\" )\n",
    "        elif choice == 3:\n",
    "            break\n",
    "        else:\n",
    "            print(\"Invalid choice. Try again.\")\n",
    "            continue\n",
    "        \n",
    "\n",
    "if __name__ == \"__main__\":\n",
    "    main()"
   ]
  }
 ],
 "metadata": {
  "kernelspec": {
   "display_name": "base",
   "language": "python",
   "name": "python3"
  },
  "language_info": {
   "codemirror_mode": {
    "name": "ipython",
    "version": 3
   },
   "file_extension": ".py",
   "mimetype": "text/x-python",
   "name": "python",
   "nbconvert_exporter": "python",
   "pygments_lexer": "ipython3",
   "version": "3.12.2"
  }
 },
 "nbformat": 4,
 "nbformat_minor": 2
}
