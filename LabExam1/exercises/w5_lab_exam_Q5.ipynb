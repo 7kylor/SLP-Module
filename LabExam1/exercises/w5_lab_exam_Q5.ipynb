{
 "cells": [
  {
   "cell_type": "code",
   "execution_count": 1,
   "metadata": {},
   "outputs": [
    {
     "name": "stdout",
     "output_type": "stream",
     "text": [
      "the avg temp is  11.43 C\n",
      "the max temp was in 2024-03-8 with a 40 C deg\n",
      "the most common temp is  -4\n"
     ]
    }
   ],
   "source": [
    " # -*- coding: week 5 lab exam exercises -*-\n",
    "\n",
    "#5\n",
    "import random\n",
    "from collections import Counter \n",
    "\n",
    "def generate_weather_data():\n",
    "    weather_conditions=[\"Sunny\", \"Rainy\", \"Cloudy\", \"Snowy\"]\n",
    "    return  [(f\"2024-03-{day}\", random.randint(-10, 40), random.choice(weather_conditions)) for day in range(1, 31)]\n",
    "\n",
    "def main():\n",
    "    weather_data = generate_weather_data()\n",
    "    avg_temp = sum(day[1] for day in weather_data ) / len(weather_data)\n",
    "    max_temp= max(weather_data , key=lambda x:x[1])\n",
    "    most_common_temp = Counter(day[1] for day in weather_data).most_common(1)[0][0]\n",
    "    \n",
    "    print(f\"the avg temp is  {avg_temp:.2f} C\")\n",
    "    print(f\"the max temp was in {max_temp[0]} with a {max_temp[1]} C deg\")\n",
    "    print(f\"the most common temp is  {most_common_temp}\")\n",
    "    \n",
    "if __name__ == \"__main__\":\n",
    "    main()\n",
    "    "
   ]
  }
 ],
 "metadata": {
  "kernelspec": {
   "display_name": "base",
   "language": "python",
   "name": "python3"
  },
  "language_info": {
   "codemirror_mode": {
    "name": "ipython",
    "version": 3
   },
   "file_extension": ".py",
   "mimetype": "text/x-python",
   "name": "python",
   "nbconvert_exporter": "python",
   "pygments_lexer": "ipython3",
   "version": "3.12.2"
  }
 },
 "nbformat": 4,
 "nbformat_minor": 2
}
