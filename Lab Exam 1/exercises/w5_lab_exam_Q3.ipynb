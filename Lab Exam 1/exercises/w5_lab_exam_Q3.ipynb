{
 "cells": [
  {
   "cell_type": "code",
   "execution_count": 28,
   "metadata": {},
   "outputs": [
    {
     "name": "stdout",
     "output_type": "stream",
     "text": [
      "11\n",
      "The English is the Official language of Uk\n",
      "The Arabic is the Official language of Oman\n",
      "The Chinese is the Official language of China\n"
     ]
    }
   ],
   "source": [
    " # -*- coding: week 5 lab exam exercises -*-\n",
    "\n",
    "# 3\n",
    "languages = {\n",
    "    \"English\" :\"UK\",\n",
    "    \"Arabic\" : \"Oman\",\n",
    "    \"Chinese\" : \"China\",\n",
    "    \"Japanese\" : \"Japan\",\n",
    "    \"Russian\" : \"Russia\",\n",
    "    \"Spanish\" : \"Spain\",\n",
    "    \"French\" : \"France\",\n",
    "}\n",
    "\n",
    "for language, country in languages.items():\n",
    "    print(\"The \" + language.title() + \" is the Official language of \" + country.title())\n",
    "\n",
    "\n",
    " \n",
    "\n"
   ]
  }
 ],
 "metadata": {
  "kernelspec": {
   "display_name": "base",
   "language": "python",
   "name": "python3"
  },
  "language_info": {
   "codemirror_mode": {
    "name": "ipython",
    "version": 3
   },
   "file_extension": ".py",
   "mimetype": "text/x-python",
   "name": "python",
   "nbconvert_exporter": "python",
   "pygments_lexer": "ipython3",
   "version": "3.12.2"
  }
 },
 "nbformat": 4,
 "nbformat_minor": 2
}
