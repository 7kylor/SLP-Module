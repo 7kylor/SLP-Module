{
 "cells": [
  {
   "cell_type": "code",
   "execution_count": 21,
   "metadata": {},
   "outputs": [
    {
     "name": "stdout",
     "output_type": "stream",
     "text": [
      "['Omar', 'Majid', 'Ammar', 'Ali', 'Al Baraa', 'Abdurahamn']\n",
      "Pizza is my one of top favorite food food\n",
      "\n",
      "Chocolate is my one of top favorite food food\n",
      "\n",
      "Pasta is my one of top favorite food food\n",
      "\n",
      "1.0  is the square of 1\n",
      "\n",
      "1.4142135623730951  is the square of 2\n",
      "\n",
      "1.7320508075688772  is the square of 3\n",
      "\n",
      "2.0  is the square of 4\n",
      "\n",
      "2.23606797749979  is the square of 5\n",
      "\n",
      "2.449489742783178  is the square of 6\n",
      "\n",
      "2.6457513110645907  is the square of 7\n",
      "\n"
     ]
    }
   ],
   "source": [
    " import math \n",
    " \n",
    "friends = ['Ali', 'Abdurahamn', 'Salim', 'Ammar', 'Al Baraa']\n",
    "friends.append('Majid')\n",
    "friends.insert(1, 'Omar')\n",
    "friends.remove('Salim')\n",
    "friends.sort()\n",
    "friends.reverse()\n",
    "\n",
    "print(friends)\n",
    "\n",
    "\n",
    "top_favorite_food = ['Pizza', 'Chocolate', 'Pasta']\n",
    "\n",
    "for food in top_favorite_food:\n",
    "    print(f'{food} is my one of top favorite food food'+ '\\n')\n",
    "    \n",
    "number = [ 1, 2,3,4,5,6,7 ]\n",
    "\n",
    "for num in number:\n",
    "    print(f'{math.sqrt(num)}  is the square of {num}' + '\\n')\n",
    "    "
   ]
  }
 ],
 "metadata": {
  "kernelspec": {
   "display_name": "base",
   "language": "python",
   "name": "python3"
  },
  "language_info": {
   "codemirror_mode": {
    "name": "ipython",
    "version": 3
   },
   "file_extension": ".py",
   "mimetype": "text/x-python",
   "name": "python",
   "nbconvert_exporter": "python",
   "pygments_lexer": "ipython3",
   "version": "3.12.1"
  }
 },
 "nbformat": 4,
 "nbformat_minor": 2
}
