{
 "cells": [
  {
   "cell_type": "code",
   "execution_count": 4,
   "metadata": {},
   "outputs": [
    {
     "name": "stdout",
     "output_type": "stream",
     "text": [
      "W Is Capital Of W\n"
     ]
    }
   ],
   "source": [
    " # -*- coding: week 5 lab exercises-*-\n",
    "\n",
    "\n",
    "# 2 . WAP that uses the function described below to let the users enter country name and its capital and see a neatly formatted sentence and if users input ‘q’ at any time to quit. Function should combine the country name and capital name with a space in between to complete a full sentence, and then capitalize the first letters and returns the full sentence.(Muscat Is Capital Of Oman)\n",
    "\n",
    "def country_capital(country, capital):\n",
    "    return country.title() + \" Is Capital Of \" + capital.title()\n",
    "\n",
    "while True:\n",
    "    country = input(\"Enter country name: \")\n",
    "    if country == 'q':\n",
    "        break\n",
    "    capital = input(\"Enter capital name: \")\n",
    "    if capital == 'q':\n",
    "        break\n",
    "    formatted_sentence = country_capital(country, capital)\n",
    "    print(formatted_sentence)\n",
    "    break\n",
    "   \n",
    "    \n"
   ]
  }
 ],
 "metadata": {
  "kernelspec": {
   "display_name": "base",
   "language": "python",
   "name": "python3"
  },
  "language_info": {
   "codemirror_mode": {
    "name": "ipython",
    "version": 3
   },
   "file_extension": ".py",
   "mimetype": "text/x-python",
   "name": "python",
   "nbconvert_exporter": "python",
   "pygments_lexer": "ipython3",
   "version": "3.12.2"
  }
 },
 "nbformat": 4,
 "nbformat_minor": 2
}
