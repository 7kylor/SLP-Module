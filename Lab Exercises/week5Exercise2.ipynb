{
 "cells": [
  {
   "cell_type": "code",
   "execution_count": 4,
   "metadata": {},
   "outputs": [
    {
     "name": "stdout",
     "output_type": "stream",
     "text": [
      "W Is Capital Of W\n"
     ]
    }
   ],
   "source": [
    " # -*- coding: week 5 lab exercises-*-\n",
    "\n",
    "# 2\n",
    "def country_capital(country, capital):\n",
    "    return country.title() + \" Is Capital Of \" + capital.title()\n",
    "\n",
    "while True:\n",
    "    country = input(\"Enter country name: \")\n",
    "    if country == 'q':\n",
    "        break\n",
    "    capital = input(\"Enter capital name: \")\n",
    "    if capital == 'q':\n",
    "        break\n",
    "    formatted_sentence = country_capital(country, capital)\n",
    "    print(formatted_sentence)\n",
    "    break\n",
    "\n"
   ]
  }
 ],
 "metadata": {
  "kernelspec": {
   "display_name": "base",
   "language": "python",
   "name": "python3"
  },
  "language_info": {
   "codemirror_mode": {
    "name": "ipython",
    "version": 3
   },
   "file_extension": ".py",
   "mimetype": "text/x-python",
   "name": "python",
   "nbconvert_exporter": "python",
   "pygments_lexer": "ipython3",
   "version": "3.12.2"
  }
 },
 "nbformat": 4,
 "nbformat_minor": 2
}
