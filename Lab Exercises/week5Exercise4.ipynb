{
 "cells": [
  {
   "cell_type": "code",
   "execution_count": 28,
   "metadata": {},
   "outputs": [
    {
     "name": "stdout",
     "output_type": "stream",
     "text": [
      "[('2024-03-1', 1759, 381), ('2024-03-2', 382, 88), ('2024-03-3', 967, 655), ('2024-03-4', 2880, 357), ('2024-03-5', 4463, 17), ('2024-03-6', 3799, 675), ('2024-03-7', 2173, 930), ('2024-03-8', 457, 813), ('2024-03-9', 1617, 391), ('2024-03-10', 2344, 864), ('2024-03-11', 3059, 626), ('2024-03-12', 743, 845), ('2024-03-13', 1598, 582), ('2024-03-14', 4965, 442), ('2024-03-15', 2123, 816), ('2024-03-16', 961, 349), ('2024-03-17', 1603, 171), ('2024-03-18', 1286, 389), ('2024-03-19', 2394, 706), ('2024-03-20', 2578, 877), ('2024-03-21', 226, 324), ('2024-03-22', 2297, 181), ('2024-03-23', 3317, 819), ('2024-03-24', 3956, 840), ('2024-03-25', 4327, 546), ('2024-03-26', 3025, 859), ('2024-03-27', 4736, 124), ('2024-03-28', 967, 314), ('2024-03-29', 4379, 362), ('2024-03-30', 3286, 524)]\n",
      "Sales Data: [('2024-03-1', 4606, 875), ('2024-03-2', 3980, 151), ('2024-03-3', 1794, 479), ('2024-03-4', 4380, 741), ('2024-03-5', 990, 413), ('2024-03-6', 4509, 479), ('2024-03-7', 4313, 180), ('2024-03-8', 3153, 588), ('2024-03-9', 507, 853), ('2024-03-10', 4929, 116), ('2024-03-11', 2522, 475), ('2024-03-12', 4306, 40), ('2024-03-13', 1117, 768), ('2024-03-14', 326, 308), ('2024-03-15', 3192, 895), ('2024-03-16', 1791, 348), ('2024-03-17', 1881, 814), ('2024-03-18', 3433, 551), ('2024-03-19', 2017, 350), ('2024-03-20', 3567, 971), ('2024-03-21', 2298, 752), ('2024-03-22', 4758, 924), ('2024-03-23', 285, 230), ('2024-03-24', 4180, 20), ('2024-03-25', 4014, 98), ('2024-03-26', 3822, 656), ('2024-03-27', 230, 524), ('2024-03-28', 2338, 356), ('2024-03-29', 3526, 505), ('2024-03-30', 615, 254)]\n",
      "Average Sales: 2779.3\n",
      "Day with Highest Sales: ('2024-03-10', 4929, 116)\n",
      "Most Common Sales Amount: OMR ('2024-03-10', 4929, 116)\n"
     ]
    }
   ],
   "source": [
    " # -*- coding: week 5 lab exercises-*-\n",
    "\n",
    "\n",
    "# 4.Implement program that should:\n",
    "# Generate or simulate a set of sales data for a period (e.g., 30 days).\n",
    "# Calculate and display the average sales over this period.\n",
    "# Determine and display the day with the maximum sales.\n",
    "# Identify and display the most common sales amount during this period.\n",
    "\n",
    "import random\n",
    "from collections import Counter \n",
    "def generate_sales_data():\n",
    "   \n",
    "   return [(f\"2024-03-{day}\" , random.randint(100, 5000), random.randint(10, 1000)) for day in range(1,31)]\n",
    "\n",
    "print(generate_sales_data())\n",
    "\n",
    "def main():\n",
    "    sales_data = generate_sales_data()\n",
    "    avg_sales = sum(day[1] for day in sales_data) / len(sales_data)\n",
    "    max_sales = max(sales_data , key = lambda x: x[1])\n",
    "    most_common_sales = Counter(day[1] for day in sales_data).most_common(1)[0][0]\n",
    "    \n",
    "    \n",
    "    print (f\"Sales Data: {sales_data}\")\n",
    "    print(f\"Average Sales: {avg_sales}\")\n",
    "    print(f\"Day with Highest Sales: {max_sales}\")\n",
    "    print(f\"Most Common Sales Amount: OMR {max_sales}\")\n",
    "    \n",
    "\n",
    "if __name__ == \"__main__\":\n",
    "    main()"
   ]
  }
 ],
 "metadata": {
  "kernelspec": {
   "display_name": "base",
   "language": "python",
   "name": "python3"
  },
  "language_info": {
   "codemirror_mode": {
    "name": "ipython",
    "version": 3
   },
   "file_extension": ".py",
   "mimetype": "text/x-python",
   "name": "python",
   "nbconvert_exporter": "python",
   "pygments_lexer": "ipython3",
   "version": "3.12.2"
  }
 },
 "nbformat": 4,
 "nbformat_minor": 2
}
