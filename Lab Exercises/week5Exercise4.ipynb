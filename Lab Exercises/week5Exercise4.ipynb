{
 "cells": [
  {
   "cell_type": "code",
   "execution_count": 17,
   "metadata": {},
   "outputs": [
    {
     "name": "stdout",
     "output_type": "stream",
     "text": [
      "Sales Data: [('2024-03-1', 562, 768), ('2024-03-2', 451, 73), ('2024-03-3', 2821, 513), ('2024-03-4', 4368, 937), ('2024-03-5', 757, 264), ('2024-03-6', 4769, 644), ('2024-03-7', 3879, 388), ('2024-03-8', 1537, 827), ('2024-03-9', 176, 953), ('2024-03-10', 851, 252), ('2024-03-11', 4499, 654), ('2024-03-12', 3572, 144), ('2024-03-13', 2039, 135), ('2024-03-14', 2220, 931), ('2024-03-15', 4508, 376), ('2024-03-16', 3158, 171), ('2024-03-17', 2570, 599), ('2024-03-18', 1227, 631), ('2024-03-19', 481, 283), ('2024-03-20', 948, 552), ('2024-03-21', 4419, 691), ('2024-03-22', 2126, 286), ('2024-03-23', 1116, 749), ('2024-03-24', 4261, 545), ('2024-03-25', 1145, 376), ('2024-03-26', 4793, 939), ('2024-03-27', 4933, 254), ('2024-03-28', 3080, 446), ('2024-03-29', 3392, 109), ('2024-03-30', 571, 491)]\n",
      "Average Sales: 2507.633333333333\n",
      "Day with Highest Sales: ('2024-03-27', 4933, 254)\n",
      "Most Common Sales Amount: OMR ('2024-03-27', 4933, 254)\n"
     ]
    }
   ],
   "source": [
    " # -*- coding: week 5 lab exercises-*-\n",
    "\n",
    "\n",
    "# 4.Implement program that should:\n",
    "# Generate or simulate a set of sales data for a period (e.g., 30 days).\n",
    "# Calculate and display the average sales over this period.\n",
    "# Determine and display the day with the maximum sales.\n",
    "# Identify and display the most common sales amount during this period.\n",
    "\n",
    "\n",
    "# ------\n",
    "import random\n",
    "from collections import Counter \n",
    "\n",
    "def generate_sales_data():\n",
    "   return [(f\"2024-03-{day}\" , random.randint(100, 5000), random.randint(10, 1000)) for day in range(1,31)]\n",
    "\n",
    "\n",
    "def main():\n",
    "    sales_data = generate_sales_data()\n",
    "    avg_sales = sum(day[1] for day in sales_data) / len(sales_data)\n",
    "    max_sales = max(sales_data , key = lambda x: x[1])\n",
    "    most_common_sales = Counter(day[1] for day in sales_data).most_common(1)[0][0]\n",
    "    \n",
    "    \n",
    "    print (f\"Sales Data: {sales_data}\")\n",
    "    print(f\"Average Sales: {avg_sales}\")\n",
    "    print(f\"Day with Highest Sales: {max_sales}\")\n",
    "    print(f\"Most Common Sales Amount: OMR {max_sales}\")\n",
    "    \n",
    "\n",
    "if __name__ == \"__main__\":\n",
    "    main()\n",
    "\n",
    "\n"
   ]
  }
 ],
 "metadata": {
  "kernelspec": {
   "display_name": "base",
   "language": "python",
   "name": "python3"
  },
  "language_info": {
   "codemirror_mode": {
    "name": "ipython",
    "version": 3
   },
   "file_extension": ".py",
   "mimetype": "text/x-python",
   "name": "python",
   "nbconvert_exporter": "python",
   "pygments_lexer": "ipython3",
   "version": "3.12.2"
  }
 },
 "nbformat": 4,
 "nbformat_minor": 2
}
