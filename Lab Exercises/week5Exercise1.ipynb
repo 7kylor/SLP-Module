{
 "cells": [
  {
   "cell_type": "code",
   "execution_count": 28,
   "metadata": {},
   "outputs": [
    {
     "name": "stdout",
     "output_type": "stream",
     "text": [
      "11\n",
      "The English is the Official language of Uk\n",
      "The Arabic is the Official language of Oman\n",
      "The Chinese is the Official language of China\n"
     ]
    }
   ],
   "source": [
    " # -*- coding: week 5 lab exercises-*-\n",
    "\n",
    "#1\n",
    "\n",
    "def add(x, y):\n",
    "    return x + y\n",
    "\n",
    "def subtract(x, y):\n",
    "    return x - y\n",
    "\n",
    "def multiply(x, y):\n",
    "    return x * y\n",
    "\n",
    "def division(x, y):\n",
    "    return x / y\n",
    "\n",
    "print(\"Select operation. \")\n",
    "user_input = input(\"1. Add\\n2. Subtract\\n3. Multiply\\n4. Divide\\n\")\n",
    "result = add(5, 6)\n",
    "print(result)\n",
    "\n",
    "\n"
   ]
  }
 ],
 "metadata": {
  "kernelspec": {
   "display_name": "base",
   "language": "python",
   "name": "python3"
  },
  "language_info": {
   "codemirror_mode": {
    "name": "ipython",
    "version": 3
   },
   "file_extension": ".py",
   "mimetype": "text/x-python",
   "name": "python",
   "nbconvert_exporter": "python",
   "pygments_lexer": "ipython3",
   "version": "3.12.2"
  }
 },
 "nbformat": 4,
 "nbformat_minor": 2
}
