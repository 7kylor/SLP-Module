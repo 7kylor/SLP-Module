{
 "cells": [
  {
   "cell_type": "code",
   "execution_count": 28,
   "metadata": {},
   "outputs": [
    {
     "name": "stdout",
     "output_type": "stream",
     "text": [
      "11\n",
      "The English is the Official language of Uk\n",
      "The Arabic is the Official language of Oman\n",
      "The Chinese is the Official language of China\n"
     ]
    }
   ],
   "source": [
    " # -*- coding: week 5 lab exercises-*-\n",
    "\n",
    "\n",
    "# 6.Design a Python class StudInfo with the following specifications:\n",
    "\n",
    "# Methods:\n",
    "# a. __init__(self): Initializes an empty dictionary to store student information.\n",
    "\n",
    "# b. add_student(self, name, ID): Adds a student to the information system with the provided name and ID. Display a confirmation message.\n",
    "\n",
    "# c. get_name(self, ID): Retrieves the name associated with the given ID. If the student exists, return the name; otherwise, return \"Student not found.\"\n",
    "\n",
    "# Additional Requirement:\n",
    "\n",
    "# Implement the main() function to create an instance of StudInfo and provide a user-friendly menu to interact with the student information system. The menu should include options to add a student, get a student's name by ID, and exit the program.\n"
   ]
  }
 ],
 "metadata": {
  "kernelspec": {
   "display_name": "base",
   "language": "python",
   "name": "python3"
  },
  "language_info": {
   "codemirror_mode": {
    "name": "ipython",
    "version": 3
   },
   "file_extension": ".py",
   "mimetype": "text/x-python",
   "name": "python",
   "nbconvert_exporter": "python",
   "pygments_lexer": "ipython3",
   "version": "3.12.2"
  }
 },
 "nbformat": 4,
 "nbformat_minor": 2
}
