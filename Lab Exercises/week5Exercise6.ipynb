{
 "cells": [
  {
   "cell_type": "code",
   "execution_count": 18,
   "metadata": {},
   "outputs": [
    {
     "name": "stdout",
     "output_type": "stream",
     "text": [
      "\n",
      "1. Add Student\n",
      "2. Get Student Name\n",
      "3. Exit\n",
      "Student 1 with id 1 added successfully.\n",
      "\n",
      "1. Add Student\n",
      "2. Get Student Name\n",
      "3. Exit\n",
      "1\n",
      "\n",
      "1. Add Student\n",
      "2. Get Student Name\n",
      "3. Exit\n"
     ]
    }
   ],
   "source": [
    " # -*- coding: week 5 lab exercises-*-\n",
    "\n",
    "# 6\n",
    "\n",
    "class StudInfo:\n",
    "    def __init__(self):\n",
    "        self.students = {}\n",
    "\n",
    "    def add_student(self, name, id):\n",
    "        self.students[id] = name\n",
    "        print(f\"Student {name} with id {id} added successfully.\")\n",
    "\n",
    "    def get_name(self, id):\n",
    "        if id in self.students:\n",
    "            return self.students[id]\n",
    "        else:\n",
    "            return \"Student not found.\"\n",
    "        \n",
    "\n",
    "def main():\n",
    "    stud_info = StudInfo()\n",
    "    while True:\n",
    "        print(\"\\n1. Add Student\\n2. Get Student Name\\n3. Exit\")\n",
    "        choice = int(input(\"Enter your choice: \"))\n",
    "        if choice == 1:\n",
    "            name = input(\"Enter student name: \")\n",
    "            id = int(input(\"Enter student ID: \"))\n",
    "            stud_info.add_student(name, id)\n",
    "        elif choice == 2:\n",
    "            id = int(input(\"Enter student ID: \"))\n",
    "            name = stud_info.get_name(id)\n",
    "            print(name)\n",
    "        elif choice == 3:\n",
    "            break\n",
    "        else:\n",
    "            print(\"Invalid choice. Please try again.\")\n",
    "        \n",
    "        \n",
    "if __name__ == \"__main__\":\n",
    "    main()\n",
    "    "
   ]
  }
 ],
 "metadata": {
  "kernelspec": {
   "display_name": "base",
   "language": "python",
   "name": "python3"
  },
  "language_info": {
   "codemirror_mode": {
    "name": "ipython",
    "version": 3
   },
   "file_extension": ".py",
   "mimetype": "text/x-python",
   "name": "python",
   "nbconvert_exporter": "python",
   "pygments_lexer": "ipython3",
   "version": "3.12.2"
  }
 },
 "nbformat": 4,
 "nbformat_minor": 2
}
