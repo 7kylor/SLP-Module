{
 "cells": [
  {
   "cell_type": "code",
   "execution_count": 2,
   "metadata": {},
   "outputs": [],
   "source": [
    "\n",
    "\n",
    "def add_contact(contact_book, name, phone_number):\n",
    "    contact_book[name] = phone_number\n",
    "    return contact_book\n",
    "\n",
    "def get_contact(contact_book, name):\n",
    "    return contact_book[name]\n",
    "\n",
    "\n",
    "def main():\n",
    "    contact_book = {}\n",
    "    while True:\n",
    "        print(\"1. Add a new contact or update an existing one.\")\n",
    "        print(\"2. Retrieve a contact's phone number.\")\n",
    "        print(\"3. Exit the program.\")\n",
    "        choice = input(\"Enter your choice: \")\n",
    "        if choice == \"1\":\n",
    "            name = input(\"Enter the name: \")\n",
    "            phone_number = input(\"Enter the phone number: \")\n",
    "            contact_book = add_contact(contact_book, name, phone_number)\n",
    "        elif choice == \"2\":\n",
    "            name = input(\"Enter the name: \")\n",
    "            print(get_contact(contact_book, name))\n",
    "        elif choice == \"3\":\n",
    "            break\n",
    "        else:\n",
    "            print(\"Invalid choice. Please try again.\")\n",
    "            \n",
    "    \n",
    "    \n",
    "    \n",
    "    \n",
    "    "
   ]
  }
 ],
 "metadata": {
  "kernelspec": {
   "display_name": "base",
   "language": "python",
   "name": "python3"
  },
  "language_info": {
   "codemirror_mode": {
    "name": "ipython",
    "version": 3
   },
   "file_extension": ".py",
   "mimetype": "text/x-python",
   "name": "python",
   "nbconvert_exporter": "python",
   "pygments_lexer": "ipython3",
   "version": "3.12.2"
  }
 },
 "nbformat": 4,
 "nbformat_minor": 2
}
