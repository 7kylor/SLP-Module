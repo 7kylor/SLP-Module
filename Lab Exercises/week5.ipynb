{
 "cells": [
  {
   "cell_type": "code",
   "execution_count": 28,
   "metadata": {},
   "outputs": [
    {
     "name": "stdout",
     "output_type": "stream",
     "text": [
      "11\n",
      "The English is the Official language of Uk\n",
      "The Arabic is the Official language of Oman\n",
      "The Chinese is the Official language of China\n"
     ]
    }
   ],
   "source": [
    " # -*- coding: week 5 lab exercises-*-\n",
    "\n",
    "\n",
    "# Exercise 1\n",
    "# 1. Your task is to create a simple calculator(+,-,*,/). Choose two programming languages (Python, Java, JavaScript), assess their suitability, and pick one. Implement the solution in your selected language and provide explanatory comments on why you opted for that specific language based on any two criteria.\n",
    "\n",
    "def add(x, y):\n",
    "    return x + y\n",
    "\n",
    "def subtract(x, y):\n",
    "    return x - y\n",
    "\n",
    "def multiply(x, y):\n",
    "    return x * y\n",
    "\n",
    "def division(x, y):\n",
    "    return x / y\n",
    "\n",
    "# print(\"Select operation. \")\n",
    "# user_input = input(\"1. Add\\n2. Subtract\\n3. Multiply\\n4. Divide\\n\")\n",
    "result = add(5, 6)\n",
    "print(result)\n",
    "\n",
    "# -----------\n",
    "\n",
    "# 2 . WAP that uses the function described below to let the users enter country name and its capital and see a neatly formatted sentence and if users input ‘q’ at any time to quit. Function should combine the country name and capital name with a space in between to complete a full sentence, and then capitalize the first letters and returns the full sentence.(Muscat Is Capital Of Oman)\n",
    "\n",
    "def country_capital(country, capital):\n",
    "    return country.title() + \" Is Capital Of \" + capital.title()\n",
    "\n",
    "while True:\n",
    "    country = input(\"Enter country name: \")\n",
    "    if country == 'q':\n",
    "        break\n",
    "    capital = input(\"Enter capital name: \")\n",
    "    if capital == 'q':\n",
    "        break\n",
    "    formatted_sentence = country_capital(country, capital)\n",
    "    print(formatted_sentence)\n",
    "    \n",
    "    \n",
    "\n",
    "# 3. Write a python program to create a dictionary containing five languages and the country having one of these as an official language. One key-value pair might be 'Oman': 'Arabic'. \n",
    "# Use a loop to print a sentence about each language, such as Arabic is the official language of Oman. \n",
    "\n",
    "\n",
    "languages = {\n",
    "    \"English\" :\"UK\",\n",
    "    \"Arabic\" : \"Oman\",\n",
    "    \"Chinese\" : \"China\"\n",
    "}\n",
    "\n",
    "for language, country in languages.items():\n",
    "    print(\"The \" + language.title() + \" is the Official language of \" + country.title())\n",
    "\n",
    "\n",
    "\n",
    "# 4.Implement program that should:\n",
    "# Generate or simulate a set of sales data for a period (e.g., 30 days).\n",
    "# Calculate and display the average sales over this period.\n",
    "# Determine and display the day with the maximum sales.\n",
    "# Identify and display the most common sales amount during this period.\n",
    "\n",
    "\n"
   ]
  }
 ],
 "metadata": {
  "kernelspec": {
   "display_name": "base",
   "language": "python",
   "name": "python3"
  },
  "language_info": {
   "codemirror_mode": {
    "name": "ipython",
    "version": 3
   },
   "file_extension": ".py",
   "mimetype": "text/x-python",
   "name": "python",
   "nbconvert_exporter": "python",
   "pygments_lexer": "ipython3",
   "version": "3.12.2"
  }
 },
 "nbformat": 4,
 "nbformat_minor": 2
}
