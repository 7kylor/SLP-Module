{
 "cells": [
  {
   "cell_type": "code",
   "execution_count": 11,
   "metadata": {},
   "outputs": [
    {
     "name": "stdout",
     "output_type": "stream",
     "text": [
      "1. Add Employee\n",
      "2. Get Employee Name\n",
      "3. Exit\n"
     ]
    }
   ],
   "source": [
    "# 7. Design a Python class EmpRecord with the following specifications:\n",
    "# Methods:\n",
    "# a. __init__(self): Initializes an empty dictionary to store employee records.\n",
    "# b. add_employee(self, name, emp_id): Adds an employee to the record system\n",
    "# with the provided name and employee ID. Display a confirmation message.\n",
    "# c. get_employee_name(self, emp_id): Retrieves the name associated with the\n",
    "# given employee ID. If the employee exists, return the name; otherwise, return\n",
    "# \"Employee not found.\"\n",
    "# Additional Requirement:\n",
    "# Implement the main() function to create an instance of EmpRecord and provide a\n",
    "# user-friendly menu to interact with the employee record system. The menu\n",
    "# should include options to add an employee, get an employee's name by ID, and\n",
    "# exit the program.\n",
    "\n",
    "class EmpRecord:\n",
    "    def __init__(self):\n",
    "        self.employees = {}\n",
    "\n",
    "    def add_employee(self, name, emp_id):\n",
    "        self.employees[emp_id] = name\n",
    "        print(f\"Employee {name} added with Id {emp_id}\")\n",
    "        \n",
    "    def get_employee_name(self, emp_id):\n",
    "        if emp_id in self.employees:\n",
    "            return (f\"Employee Name { self.employees[emp_id]} \")\n",
    "        else:\n",
    "            return \"Employee Not Found\"\n",
    "        \n",
    "        \n",
    "\n",
    "def main():\n",
    "    emp = EmpRecord()\n",
    "    while True:\n",
    "        print(\"1. Add Employee\")\n",
    "        print(\"2. Get Employee Name\")\n",
    "        print(\"3. Exit\")\n",
    "        choice = int(input(\"Enter your choice: \"))\n",
    "        if choice == 1:\n",
    "            name = input(\"Enter Employee Name: \")\n",
    "            emp_id = int(input(\"Enter Employee Id: \"))\n",
    "            emp.add_employee(name, emp_id)\n",
    "        elif choice == 2:\n",
    "            emp_id = int(input(\"Enter Employee Id: \"))\n",
    "            print(emp.get_employee_name(emp_id))\n",
    "        elif choice == 3:\n",
    "            break\n",
    "        else:\n",
    "            print(\"Invalid Choice\")\n",
    "            \n",
    "            \n",
    "if __name__ == \"__main__\":\n",
    "    main()"
   ]
  }
 ],
 "metadata": {
  "kernelspec": {
   "display_name": "base",
   "language": "python",
   "name": "python3"
  },
  "language_info": {
   "codemirror_mode": {
    "name": "ipython",
    "version": 3
   },
   "file_extension": ".py",
   "mimetype": "text/x-python",
   "name": "python",
   "nbconvert_exporter": "python",
   "pygments_lexer": "ipython3",
   "version": "3.12.2"
  }
 },
 "nbformat": 4,
 "nbformat_minor": 2
}
