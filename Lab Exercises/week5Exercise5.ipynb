{
 "cells": [
  {
   "cell_type": "code",
   "execution_count": 7,
   "metadata": {},
   "outputs": [
    {
     "name": "stdout",
     "output_type": "stream",
     "text": [
      "the avg temp is  12.43 C\n",
      "the max temp is 2024-03-26 with 38 C\n",
      "the most common temp is  3\n"
     ]
    }
   ],
   "source": [
    " # -*- coding: week 5 lab exercises-*-\n",
    "\n",
    "# 5. Choose two programming languages (Python, Java, JavaScript), assess their suitability, and pick one. Implement the solution in your selected language and provide explanatory comments on why you opted for that specific language based on any two criteria. \n",
    "# Implement program that should:\n",
    "# Generate or simulate a set of weather data for a period (e.g., 30 days).\n",
    "# Calculate and display the average temp over this period.\n",
    "# Determine and display the day with the maximum temp.\n",
    "# Identify and display the most common temp during this period.\n",
    "\n",
    "import random\n",
    "from collections import Counter \n",
    "\n",
    "def generate_weather_data():\n",
    "    weather_conditions=[\"Sunny\", \"Rainy\", \"Cloudy\", \"Snowy\"]\n",
    "    return  [(f\"2024-03-{day}\", random.randint(-10, 40), random.choice(weather_conditions)) for day in range(1, 31)]\n",
    "\n",
    "\n",
    "\n",
    "def main():\n",
    "    weather_data = generate_weather_data()\n",
    "    avg_temp = sum(day[1] for day in weather_data ) / len(weather_data)\n",
    "    max_temp= max(weather_data , key=lambda x:x[1])\n",
    "    most_common_temp = Counter(day[1] for day in weather_data).most_common(1)[0][0]\n",
    "    \n",
    "    print(f\"the avg temp is  {avg_temp:.2f} C\")\n",
    "    print(f\"the max temp is {max_temp[0]} with {max_temp[1]} C\")\n",
    "    print(f\"the most common temp is  {most_common_temp}\")\n",
    "    \n",
    "if __name__ == \"__main__\":\n",
    "    main()\n",
    "    "
   ]
  }
 ],
 "metadata": {
  "kernelspec": {
   "display_name": "base",
   "language": "python",
   "name": "python3"
  },
  "language_info": {
   "codemirror_mode": {
    "name": "ipython",
    "version": 3
   },
   "file_extension": ".py",
   "mimetype": "text/x-python",
   "name": "python",
   "nbconvert_exporter": "python",
   "pygments_lexer": "ipython3",
   "version": "3.12.2"
  }
 },
 "nbformat": 4,
 "nbformat_minor": 2
}
