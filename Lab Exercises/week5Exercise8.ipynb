{
 "cells": [
  {
   "cell_type": "code",
   "execution_count": 1,
   "metadata": {},
   "outputs": [
    {
     "name": "stdout",
     "output_type": "stream",
     "text": [
      "1. Add a book\n",
      "2. Get a book's title by ISBN\n",
      "3. Exit\n",
      "Book 33 with ISBN 33 added to catalog.\n",
      "1. Add a book\n",
      "2. Get a book's title by ISBN\n",
      "3. Exit\n"
     ]
    },
    {
     "ename": "ValueError",
     "evalue": "invalid literal for int() with base 10: 'eeseds'",
     "output_type": "error",
     "traceback": [
      "\u001b[0;31m---------------------------------------------------------------------------\u001b[0m",
      "\u001b[0;31mValueError\u001b[0m                                Traceback (most recent call last)",
      "Cell \u001b[0;32mIn[1], line 53\u001b[0m\n\u001b[1;32m     49\u001b[0m             \u001b[38;5;28;01mcontinue\u001b[39;00m\n\u001b[1;32m     52\u001b[0m \u001b[38;5;28;01mif\u001b[39;00m \u001b[38;5;18m__name__\u001b[39m \u001b[38;5;241m==\u001b[39m \u001b[38;5;124m\"\u001b[39m\u001b[38;5;124m__main__\u001b[39m\u001b[38;5;124m\"\u001b[39m:\n\u001b[0;32m---> 53\u001b[0m     main()\n",
      "Cell \u001b[0;32mIn[1], line 36\u001b[0m, in \u001b[0;36mmain\u001b[0;34m()\u001b[0m\n\u001b[1;32m     34\u001b[0m \u001b[38;5;28mprint\u001b[39m(\u001b[38;5;124m\"\u001b[39m\u001b[38;5;124m2. Get a book\u001b[39m\u001b[38;5;124m'\u001b[39m\u001b[38;5;124ms title by ISBN\u001b[39m\u001b[38;5;124m\"\u001b[39m)\n\u001b[1;32m     35\u001b[0m \u001b[38;5;28mprint\u001b[39m(\u001b[38;5;124m\"\u001b[39m\u001b[38;5;124m3. Exit\u001b[39m\u001b[38;5;124m\"\u001b[39m)\n\u001b[0;32m---> 36\u001b[0m choice \u001b[38;5;241m=\u001b[39m \u001b[38;5;28mint\u001b[39m(\u001b[38;5;28minput\u001b[39m(\u001b[38;5;124m\"\u001b[39m\u001b[38;5;124mEnter your choice: \u001b[39m\u001b[38;5;124m\"\u001b[39m))\n\u001b[1;32m     37\u001b[0m \u001b[38;5;28;01mif\u001b[39;00m choice \u001b[38;5;241m==\u001b[39m \u001b[38;5;241m1\u001b[39m:\n\u001b[1;32m     38\u001b[0m     title \u001b[38;5;241m=\u001b[39m \u001b[38;5;28minput\u001b[39m(\u001b[38;5;124m\"\u001b[39m\u001b[38;5;124mEnter book title: \u001b[39m\u001b[38;5;124m\"\u001b[39m)\n",
      "\u001b[0;31mValueError\u001b[0m: invalid literal for int() with base 10: 'eeseds'"
     ]
    }
   ],
   "source": [
    "# 8. Design a Python class BookCatalog with the following specifications:\n",
    "# Methods:\n",
    "# a. __init__(self): Initializes an empty dictionary to store book details.\n",
    "# b. add_book(self, title, isbn): Adds a book to the catalog with the provided title\n",
    "# and ISBN. Display a confirmation message.\n",
    "# c. get_book_title(self, isbn): Retrieves the title associated with the given ISBN. If\n",
    "# the book exists in the catalog, return the title; otherwise, return \"Book not\n",
    "# found.\"\n",
    "# Additional Requirement:\n",
    "# Implement the main() function to create an instance of BookCatalog and provide\n",
    "# a user-friendly menu to interact with the book catalog system. The menu should\n",
    "# include options to add a book, get a book's title by ISBN, and exit the program.\n",
    "\n",
    "\n",
    "class BookCatalog:\n",
    "    def __init__(self):\n",
    "        self.book_details = {}\n",
    "\n",
    "    def add_book(self, title, isbn):\n",
    "        self.book_details[isbn] = title\n",
    "        print(f\"Book {title} with ISBN {isbn} added to catalog.\")\n",
    "\n",
    "    def get_book_title(self, isbn):\n",
    "        if isbn in self.book_details:\n",
    "            return self.book_details[isbn]\n",
    "        else:\n",
    "            return \"Book not found.\"\n",
    "        \n",
    "        \n",
    "def main():\n",
    "    book_catalog = BookCatalog()\n",
    "    while True:\n",
    "        print(\"1. Add a book\")\n",
    "        print(\"2. Get a book's title by ISBN\")\n",
    "        print(\"3. Exit\")\n",
    "        choice = int(input(\"Enter your choice: \"))\n",
    "        if choice == 1:\n",
    "            title = input(\"Enter book title: \")\n",
    "            isbn = int(input(\"Enter book ISBN: \"))\n",
    "            book_catalog.add_book(title, isbn)\n",
    "        elif choice == 2:\n",
    "            isbn = int(input(\"Enter book ISBN: \"))\n",
    "            title = book_catalog.get_book_title(isbn)\n",
    "            print(title)\n",
    "        elif choice == 3:\n",
    "            break\n",
    "        else:\n",
    "            print(\"Invalid choice. Try again.\")\n",
    "            continue\n",
    "        \n",
    "\n",
    "if __name__ == \"__main__\":\n",
    "    main()"
   ]
  }
 ],
 "metadata": {
  "kernelspec": {
   "display_name": "base",
   "language": "python",
   "name": "python3"
  },
  "language_info": {
   "codemirror_mode": {
    "name": "ipython",
    "version": 3
   },
   "file_extension": ".py",
   "mimetype": "text/x-python",
   "name": "python",
   "nbconvert_exporter": "python",
   "pygments_lexer": "ipython3",
   "version": "3.12.2"
  }
 },
 "nbformat": 4,
 "nbformat_minor": 2
}
